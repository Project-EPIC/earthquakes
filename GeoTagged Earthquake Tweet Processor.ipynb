{
 "cells": [
  {
   "cell_type": "code",
   "execution_count": 141,
   "metadata": {
    "collapsed": true
   },
   "outputs": [],
   "source": [
    "import sys, json, pprint, urllib\n",
    "import pandas as pd\n",
    "from datetime import datetime"
   ]
  },
  {
   "cell_type": "code",
   "execution_count": 142,
   "metadata": {
    "collapsed": true
   },
   "outputs": [],
   "source": [
    "INPUT_FILE = 'raw-geo-earthquake-tweets.jsonl'\n",
    "#INPUT_FILE = '../epic-earthquake-tweets.jsonl'\n",
    "OUTPUT_FILE = 'earthquake-tweets.geojsonl'"
   ]
  },
  {
   "cell_type": "markdown",
   "metadata": {},
   "source": [
    "## Parse out Earthquake Tweets and Visualize them"
   ]
  },
  {
   "cell_type": "code",
   "execution_count": 143,
   "metadata": {
    "collapsed": true
   },
   "outputs": [],
   "source": [
    "day_counter = {}\n",
    "def update_day_counter(dt):\n",
    "        \n",
    "    date = dt.date()\n",
    "    \n",
    "    if date in day_counter:\n",
    "        day_counter[date]+=1;\n",
    "    else:\n",
    "        day_counter[date]= 1"
   ]
  },
  {
   "cell_type": "code",
   "execution_count": 144,
   "metadata": {
    "collapsed": true
   },
   "outputs": [],
   "source": [
    "#Wed Apr 13 02:46:23 +0000 2016\n",
    "\"%a %b %d %X %z %Y\"\n",
    "\n",
    "def createProps(feature, tweet):\n",
    "    dt = datetime.strptime(tweet['created_at'], \"%a %b %d %X %z %Y\")\n",
    "    feature['properties'] = {\n",
    "#             'orig': tweet['created_at'],\n",
    "#             'datetime' : datetime.strptime(tweet['created_at'], \"%a %b %d %X %z %Y\"),\n",
    "             'timestamp' : int(dt.timestamp()),\n",
    "             'user' : tweet['user']['screen_name'],\n",
    "             'text' : urllib.parse.quote_plus(tweet['text'])\n",
    "    }\n",
    "    \n",
    "    update_day_counter(dt)\n",
    "\n",
    "    #if 'entities' in tweet:\n",
    "    #    if 'hashtags' in tweet['entities']:\n",
    "    #        for idx, tag in enumerate(tweet['entities']['hashtags'][:5]):\n",
    "    #            feature['properties']['hashtag_'+str(idx+1)] = tag['text'].lower()\n",
    "    return feature\n",
    "\n",
    "def makeFeature(t):\n",
    "    f = {'type':'Feature'}\n",
    "    if 'coordinates' in t:\n",
    "        if t['coordinates'] is not None:\n",
    "            f['geometry'] = t['coordinates']\n",
    "            return createProps(f,t)\n",
    "    elif 'geo' in t:\n",
    "        if 'geo' is not None:\n",
    "            f['geometry'] = {'type':'Point', 'coordinates': reversed(t['geo']['coordinates'])}\n",
    "            return createProps(f,t)\n",
    "    return None"
   ]
  },
  {
   "cell_type": "code",
   "execution_count": null,
   "metadata": {},
   "outputs": [
    {
     "name": "stderr",
     "output_type": "stream",
     "text": [
      "2134700 tweets processed, 754427 with geo"
     ]
    }
   ],
   "source": [
    "count = 0;\n",
    "geo = 0;\n",
    "limit = 999999999;\n",
    "features = []\n",
    "with open(INPUT_FILE,'r') as inFile:\n",
    "    with open(OUTPUT_FILE,'w') as outFile:\n",
    "        for line in inFile:\n",
    "            count += 1;\n",
    "            t = makeFeature(json.loads(line.strip()))\n",
    "            if t:\n",
    "                features.append(t)\n",
    "                outFile.write(json.dumps(t)+\"\\n\")\n",
    "                geo+=1;\n",
    "            if count > limit:\n",
    "                break\n",
    "            if count%100==0:\n",
    "                sys.stderr.write(\"\\r{0} tweets processed, {1} with geo\".format(count, geo))\n",
    "len(features)"
   ]
  },
  {
   "cell_type": "markdown",
   "metadata": {},
   "source": [
    "## Create CSV for Timeline"
   ]
  },
  {
   "cell_type": "code",
   "execution_count": 146,
   "metadata": {
    "collapsed": true
   },
   "outputs": [],
   "source": [
    "with open('docs/earthquakes-meta.csv','w') as tweet_count_meta:\n",
    "    tweet_count_meta.write(\"date,count\\n\")\n",
    "    \n",
    "    for date, count in sorted([(x[0], x[1]) for x in day_counter.items()], key=lambda x: x[0]):\n",
    "    \n",
    "        string = \"{0},{1}\\n\".format(date, count)         \n",
    "        tweet_count_meta.write( string )\n",
    "        #print(string, end=\"\")"
   ]
  },
  {
   "cell_type": "code",
   "execution_count": 123,
   "metadata": {
    "collapsed": true
   },
   "outputs": [],
   "source": [
    "json.dump({'type':'FeatureCollection','features':features}, open(\"/data/www/jennings/earthquakes.geojson\",'w'))"
   ]
  }
 ],
 "metadata": {
  "kernelspec": {
   "display_name": "Python 3",
   "language": "python",
   "name": "python3"
  },
  "language_info": {
   "codemirror_mode": {
    "name": "ipython",
    "version": 3
   },
   "file_extension": ".py",
   "mimetype": "text/x-python",
   "name": "python",
   "nbconvert_exporter": "python",
   "pygments_lexer": "ipython3",
   "version": "3.5.2"
  }
 },
 "nbformat": 4,
 "nbformat_minor": 2
}
